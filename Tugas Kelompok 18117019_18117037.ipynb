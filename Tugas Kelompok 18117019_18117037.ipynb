{
 "cells": [
  {
   "cell_type": "code",
   "execution_count": 2,
   "metadata": {},
   "outputs": [
    {
     "name": "stdout",
     "output_type": "stream",
     "text": [
      "Enter a word:eksplor Bandung\n",
      "3k5pl0r B@ndoen9\n"
     ]
    }
   ],
   "source": [
    "word = input('Enter a word:')\n",
    "new_word = \"\"\n",
    "for i in range(len(word)):\n",
    "    if (word[i] == \"a\"):\n",
    "        new_word = new_word + \"@\"\n",
    "    elif (word[i] == \"A\"):\n",
    "        new_word = new_word + \"4\"   \n",
    "    elif (word[i] == \"e\"):\n",
    "        new_word = new_word + \"3\"\n",
    "    elif (word[i] == \"g\"):\n",
    "        new_word = new_word + \"9\"\n",
    "    elif (word[i] == \"G\"):\n",
    "        new_word = new_word + \"6\"\n",
    "    elif ((word[i] == \"o\") or (word[i] == \"O\")):\n",
    "        new_word = new_word + \"0\"\n",
    "    elif ((word[i] == \"s\") or (word[i] == \"S\")):\n",
    "        new_word = new_word + \"5\"\n",
    "    elif (word[i] == \"i\"):\n",
    "        new_word = new_word + \"!\"\n",
    "    elif (word[i] == \"I\"):\n",
    "        new_word = new_word + \"1\"\n",
    "    elif (word[i] == \"u\"):\n",
    "        new_word = new_word + \"oe\"\n",
    "    else:\n",
    "        new_word = new_word + word[i]\n",
    "\n",
    "print(new_word)"
   ]
  },
  {
   "cell_type": "code",
   "execution_count": null,
   "metadata": {},
   "outputs": [],
   "source": []
  },
  {
   "cell_type": "code",
   "execution_count": null,
   "metadata": {},
   "outputs": [],
   "source": []
  }
 ],
 "metadata": {
  "kernelspec": {
   "display_name": "Python 3",
   "language": "python",
   "name": "python3"
  },
  "language_info": {
   "codemirror_mode": {
    "name": "ipython",
    "version": 3
   },
   "file_extension": ".py",
   "mimetype": "text/x-python",
   "name": "python",
   "nbconvert_exporter": "python",
   "pygments_lexer": "ipython3",
   "version": "3.7.3"
  }
 },
 "nbformat": 4,
 "nbformat_minor": 2
}
